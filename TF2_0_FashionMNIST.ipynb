{
  "nbformat": 4,
  "nbformat_minor": 0,
  "metadata": {
    "colab": {
      "name": "TF2.0_FashionMNIST.ipynb",
      "provenance": [],
      "collapsed_sections": [
        "eGJ4gCA4KYE4",
        "WghBPxMdKJXf",
        "Fn0_22SDP87a",
        "kKSnhhJWB70o"
      ]
    },
    "kernelspec": {
      "name": "python3",
      "display_name": "Python 3"
    },
    "language_info": {
      "name": "python"
    },
    "accelerator": "GPU"
  },
  "cells": [
    {
      "cell_type": "markdown",
      "metadata": {
        "id": "WIZfMCH3Jegv"
      },
      "source": [
        "[![Open In Colab](https://colab.research.google.com/assets/colab-badge.svg)](https://colab.research.google.com/drive/1q71mw_g4Oldak1bah4GcM-gVNeiIAKGz?usp=sharing)"
      ]
    },
    {
      "cell_type": "markdown",
      "metadata": {
        "id": "eGJ4gCA4KYE4"
      },
      "source": [
        "## Loading and analysing Fashion MNIST dataset"
      ]
    },
    {
      "cell_type": "code",
      "metadata": {
        "id": "ap4L82SoIbWf"
      },
      "source": [
        "import tensorflow as tf\n",
        "from tensorflow.keras import datasets, layers, models\n",
        "import numpy as np\n",
        "import matplotlib.pylab as plt\n",
        "\n",
        "(train_images, train_labels), (test_images, test_labels) = tf.keras.datasets.fashion_mnist.load_data()\n"
      ],
      "execution_count": null,
      "outputs": []
    },
    {
      "cell_type": "markdown",
      "metadata": {
        "id": "MX5pwHNbBMrz"
      },
      "source": [
        "**Confirm type and dimensions of the dataset**"
      ]
    },
    {
      "cell_type": "code",
      "metadata": {
        "id": "ebSHfDgGIhQM"
      },
      "source": [
        "type(train_images)"
      ],
      "execution_count": null,
      "outputs": []
    },
    {
      "cell_type": "code",
      "metadata": {
        "id": "gqcWURO4Irbo"
      },
      "source": [
        "train_images.shape"
      ],
      "execution_count": null,
      "outputs": []
    },
    {
      "cell_type": "code",
      "metadata": {
        "id": "v2SUNvKrI2RP"
      },
      "source": [
        "test_images.shape"
      ],
      "execution_count": null,
      "outputs": []
    },
    {
      "cell_type": "markdown",
      "metadata": {
        "id": "VGuQVbA1JTPM"
      },
      "source": [
        "**How many instances do we have of each of the different classes?**"
      ]
    },
    {
      "cell_type": "code",
      "metadata": {
        "id": "GGGcK9OGI4Rl"
      },
      "source": [
        "np.unique(train_labels, return_counts=True)"
      ],
      "execution_count": null,
      "outputs": []
    },
    {
      "cell_type": "code",
      "metadata": {
        "id": "8CwOVTMuMSfu"
      },
      "source": [
        "class_names = ['T-shirt/top', 'Trouser', 'Pullover', 'Dress', 'Coat',\n",
        "               'Sandal', 'Shirt', 'Sneaker', 'Bag', 'Ankle boot']"
      ],
      "execution_count": null,
      "outputs": []
    },
    {
      "cell_type": "markdown",
      "metadata": {
        "id": "WghBPxMdKJXf"
      },
      "source": [
        "## An overview of the images\n"
      ]
    },
    {
      "cell_type": "code",
      "metadata": {
        "id": "v83v_MQrJGPR"
      },
      "source": [
        "# Get 16 images at random\n",
        "import random\n",
        "random.seed(1)\n",
        "train_idx = list(range(len(train_labels)))\n",
        "sampler = random.sample(train_idx, 16)\n",
        "sampler"
      ],
      "execution_count": null,
      "outputs": []
    },
    {
      "cell_type": "code",
      "metadata": {
        "id": "ae5I_i2NLMYg"
      },
      "source": [
        "plt.figure(figsize=(10, 10))\n",
        "for i in range(len(sampler)):\n",
        " plt.subplot(4,4,i+1)\n",
        " plt.xticks([])\n",
        " plt.yticks([])\n",
        " plt.grid(False)\n",
        " plt.imshow(train_images[sampler[i]], cmap=plt.cm.binary)\n",
        " plt.xlabel(class_names[train_labels[sampler[i]]])\n",
        "plt.show()\n"
      ],
      "execution_count": null,
      "outputs": []
    },
    {
      "cell_type": "markdown",
      "metadata": {
        "id": "_oijYUBt__lh"
      },
      "source": [
        "**What does one image look like?**"
      ]
    },
    {
      "cell_type": "code",
      "metadata": {
        "id": "Q_y4upVPIe8_"
      },
      "source": [
        "random_image_id = 15000\n",
        "plt.figure()\n",
        "plt.imshow(train_images[15000],cmap=plt.cm.binary)\n",
        "plt.colorbar()\n",
        "plt.grid(False)\n",
        "plt.show()"
      ],
      "execution_count": null,
      "outputs": []
    },
    {
      "cell_type": "code",
      "metadata": {
        "id": "21_hgve7-Dnr"
      },
      "source": [
        "class_names[train_labels[random_image_id]]"
      ],
      "execution_count": null,
      "outputs": []
    },
    {
      "cell_type": "code",
      "metadata": {
        "id": "vw-zJYAf_Bjl"
      },
      "source": [
        "train_images[random_image_id]"
      ],
      "execution_count": null,
      "outputs": []
    },
    {
      "cell_type": "markdown",
      "metadata": {
        "id": "Fn0_22SDP87a"
      },
      "source": [
        "## Build, compile and train the model"
      ]
    },
    {
      "cell_type": "code",
      "metadata": {
        "id": "pv-cMB5PAERF"
      },
      "source": [
        "(train_images, train_labels), (test_images, test_labels) = tf.keras.datasets.fashion_mnist.load_data()\n",
        "train_images = train_images / 255.0\n",
        "test_images = test_images / 255.0"
      ],
      "execution_count": null,
      "outputs": []
    },
    {
      "cell_type": "code",
      "metadata": {
        "id": "p04Kd-_zKYpY"
      },
      "source": [
        "plt.figure()\n",
        "plt.imshow(train_images[8], cmap=plt.cm.binary)\n",
        "plt.colorbar()\n",
        "plt.grid(False)\n",
        "plt.show()"
      ],
      "execution_count": null,
      "outputs": []
    },
    {
      "cell_type": "code",
      "metadata": {
        "id": "4rb8bR7DMcGE"
      },
      "source": [
        "#build\n",
        "model = tf.keras.Sequential([\n",
        "  tf.keras.layers.Flatten(input_shape=(28, 28)),                           \n",
        "  tf.keras.layers.Dense(128, activation='relu'), \n",
        "  tf.keras.layers.Dense(64, activation='relu'),                              \n",
        "  tf.keras.layers.Dense(10),                             \n",
        "  ])\n",
        "#compile\n",
        "model.compile(optimizer='adam',\n",
        "              loss=tf.keras.losses.SparseCategoricalCrossentropy(from_logits=True),\n",
        "              metrics=['accuracy'])\n",
        "#train\n",
        "model.fit(train_images, train_labels, epochs=10, batch_size=64, validation_split=0.1)"
      ],
      "execution_count": null,
      "outputs": []
    },
    {
      "cell_type": "code",
      "metadata": {
        "id": "oY0TkxcuQoLo"
      },
      "source": [
        ""
      ],
      "execution_count": null,
      "outputs": []
    },
    {
      "cell_type": "markdown",
      "metadata": {
        "id": "kKSnhhJWB70o"
      },
      "source": [
        "## Make predictions\n"
      ]
    },
    {
      "cell_type": "code",
      "metadata": {
        "id": "V3NZjub5VP1Z"
      },
      "source": [
        "image_id = 500 # Pick an image id between 0 and 9999 inclusive\n",
        "\n",
        "probability_model = tf.keras.Sequential([model, tf.keras.layers.Softmax()])\n",
        "predictions = probability_model.predict(test_images)\n",
        "\n",
        "def plot_image(i, predictions_array, true_label, img):\n",
        "  true_label, img = true_label[i], img[i]\n",
        "  plt.grid(False)\n",
        "  plt.xticks([])\n",
        "  plt.yticks([])\n",
        "\n",
        "  plt.imshow(img, cmap=plt.cm.binary)\n",
        "\n",
        "  predicted_label = np.argmax(predictions_array)\n",
        "  if predicted_label == true_label:\n",
        "    color = 'green'\n",
        "  else:\n",
        "    color = 'red'\n",
        "\n",
        "  plt.xlabel(f\"{class_names[predicted_label]} {100*np.max(predictions_array):2.0f}% ({class_names[true_label]})\", color=color)\n",
        "\n",
        "def plot_value_array(i, predictions_array, true_label):\n",
        "  true_label = true_label[i]\n",
        "  plt.grid(False)\n",
        "  plt.xticks(range(10))\n",
        "  plt.yticks(range(10))\n",
        "  thisplot = plt.bar(range(10), predictions_array, color=\"#777777\")\n",
        "  plt.ylim([0, 1])\n",
        "  predicted_label = np.argmax(predictions_array)\n",
        "\n",
        "  thisplot[predicted_label].set_color('red')\n",
        "  thisplot[true_label].set_color('green')\n",
        "\n",
        "plt.figure(figsize=(6,3))\n",
        "plt.subplot(1,2,1)\n",
        "plot_image(image_id, predictions[image_id], test_labels, test_images)\n",
        "plt.subplot(1,2,2)\n",
        "plot_value_array(image_id, predictions[image_id],  test_labels)\n",
        "_ = plt.xticks(range(10), class_names, rotation=90)\n",
        "plt.show()"
      ],
      "execution_count": null,
      "outputs": []
    }
  ]
}