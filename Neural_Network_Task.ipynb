{
  "nbformat": 4,
  "nbformat_minor": 0,
  "metadata": {
    "colab": {
      "name": "Neural Network Task.ipynb",
      "provenance": [],
      "collapsed_sections": []
    },
    "kernelspec": {
      "name": "python3",
      "display_name": "Python 3"
    },
    "language_info": {
      "name": "python"
    }
  },
  "cells": [
    {
      "cell_type": "markdown",
      "metadata": {
        "id": "e5TQj_d5qvpC"
      },
      "source": [
        "# Neural Network Task"
      ]
    },
    {
      "cell_type": "code",
      "metadata": {
        "id": "8xF6ymvIrAGU"
      },
      "source": [
        "import tensorflow as tf\n",
        "import numpy as np\n",
        "import matplotlib.pyplot as plt"
      ],
      "execution_count": null,
      "outputs": []
    },
    {
      "cell_type": "code",
      "metadata": {
        "id": "riyU3CJPqvDR"
      },
      "source": [
        "mnist = tf.keras.datasets.mnist\n",
        "\n",
        "(train_images, train_labels), (test_images, test_labels) = mnist.load_data()"
      ],
      "execution_count": null,
      "outputs": []
    },
    {
      "cell_type": "code",
      "metadata": {
        "id": "ACbxiNGqzdpI"
      },
      "source": [
        ""
      ],
      "execution_count": null,
      "outputs": []
    },
    {
      "cell_type": "markdown",
      "metadata": {
        "id": "SduXddIirHPs"
      },
      "source": [
        "**Normalize the train and test dataset**"
      ]
    },
    {
      "cell_type": "code",
      "metadata": {
        "id": "VE-8wvig0d2l"
      },
      "source": [
        ""
      ],
      "execution_count": null,
      "outputs": []
    },
    {
      "cell_type": "markdown",
      "metadata": {
        "id": "ZUX9PcWWrrOJ"
      },
      "source": [
        "**How many instances do we have of each of the different classes?**"
      ]
    },
    {
      "cell_type": "code",
      "metadata": {
        "id": "wHW9W4c30fNT"
      },
      "source": [
        ""
      ],
      "execution_count": null,
      "outputs": []
    },
    {
      "cell_type": "markdown",
      "metadata": {
        "id": "dwIaSMqguI9m"
      },
      "source": [
        "**What does an image_id look like?**"
      ]
    },
    {
      "cell_type": "code",
      "metadata": {
        "id": "NCJ7x3re0hpD"
      },
      "source": [
        ""
      ],
      "execution_count": null,
      "outputs": []
    },
    {
      "cell_type": "markdown",
      "metadata": {
        "id": "AF5Db8xdrYxc"
      },
      "source": [
        "**Create a model for the MNIST dataset**"
      ]
    },
    {
      "cell_type": "code",
      "metadata": {
        "id": "Bjdts9_60jvl"
      },
      "source": [
        ""
      ],
      "execution_count": null,
      "outputs": []
    },
    {
      "cell_type": "markdown",
      "metadata": {
        "id": "qPlkH-FpviC6"
      },
      "source": [
        "**Select a relevant optimizer, loss function and metric**"
      ]
    },
    {
      "cell_type": "code",
      "metadata": {
        "id": "SkCAmeeV0lpH"
      },
      "source": [
        ""
      ],
      "execution_count": null,
      "outputs": []
    },
    {
      "cell_type": "markdown",
      "metadata": {
        "id": "2whyASnOvu4M"
      },
      "source": [
        "**Train the model, using 10% for validation**"
      ]
    },
    {
      "cell_type": "code",
      "metadata": {
        "id": "gMYj2pkgrTyc"
      },
      "source": [
        ""
      ],
      "execution_count": null,
      "outputs": []
    },
    {
      "cell_type": "markdown",
      "metadata": {
        "id": "Pm3qkHxNxtnX"
      },
      "source": [
        "**Make predictions**"
      ]
    },
    {
      "cell_type": "code",
      "metadata": {
        "id": "nDW8dNp-0pJL"
      },
      "source": [
        ""
      ],
      "execution_count": null,
      "outputs": []
    },
    {
      "cell_type": "markdown",
      "metadata": {
        "id": "SQvDZDSxxyiv"
      },
      "source": [
        "**Find 2 examples where the model incorrectly predicted a digit**"
      ]
    },
    {
      "cell_type": "code",
      "metadata": {
        "id": "IbX1Dz4Zyeo3"
      },
      "source": [
        ""
      ],
      "execution_count": null,
      "outputs": []
    }
  ]
}